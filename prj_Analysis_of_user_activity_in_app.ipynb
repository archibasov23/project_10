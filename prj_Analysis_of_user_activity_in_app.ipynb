{
 "cells": [
  {
   "cell_type": "markdown",
   "metadata": {},
   "source": [
    "# Анализ поведения пользоваталей в приложении по продаже продуктов питания"
   ]
  },
  {
   "cell_type": "markdown",
   "metadata": {},
   "source": [
    "Вы работаете в стартапе, который продаёт продукты питания. Нужно разобраться, как ведут себя пользователи вашего мобильного приложения. Изучите воронку продаж. Узнайте, как пользователи доходят до покупки. Сколько пользователей доходит до покупки, а сколько — «застревает» на предыдущих шагах? На каких именно? После этого исследуйте результаты A/B-эксперимента. Дизайнеры захотели поменять шрифты во всём приложении, а менеджеры испугались, что пользователям будет непривычно. Договорились принять решение по результатам A/B-теста. Для него пользователей разбили на 3 группы: 2 контрольные со старыми шрифтами и одну экспериментальную — с новыми. Выясните, какой шрифт лучше."
   ]
  },
  {
   "cell_type": "markdown",
   "metadata": {},
   "source": [
    "Структура исследования:\n",
    "\n",
    "- открытие данных;\n",
    "- подготовка данных;\n",
    "- изучение и проверка данных;\n",
    "- изучение воронки событий;\n",
    "- проведенение A/B-тестов;\n",
    "- формулирование выводов;"
   ]
  },
  {
   "cell_type": "code",
   "execution_count": 1,
   "metadata": {},
   "outputs": [],
   "source": [
    "import pandas as pd\n",
    "import matplotlib.pyplot as plt\n",
    "import numpy as np\n",
    "import seaborn as sns\n",
    "import datetime as dt\n",
    "import math as mth\n",
    "from scipy import stats as st\n",
    "import warnings"
   ]
  },
  {
   "cell_type": "markdown",
   "metadata": {},
   "source": [
    "## Шаг 1. Открытие файла изучие общей информации"
   ]
  },
  {
   "cell_type": "code",
   "execution_count": 2,
   "metadata": {},
   "outputs": [],
   "source": [
    "logs = pd.read_csv('/datasets/logs_exp.csv', sep = '\\t')"
   ]
  },
  {
   "cell_type": "markdown",
   "metadata": {},
   "source": [
    " #### Таблица - logs:\n",
    " - EventName — название события;\n",
    " - DeviceIDHash **— уникальный идентификатор пользователя;\n",
    " - EventTimestamp — время события;\n",
    " - ExpId — номер эксперимента: 246 и 247 — контрольные группы, а 248 — экспериментальная."
   ]
  },
  {
   "cell_type": "code",
   "execution_count": 3,
   "metadata": {},
   "outputs": [
    {
     "data": {
      "text/html": [
       "<div>\n",
       "<style scoped>\n",
       "    .dataframe tbody tr th:only-of-type {\n",
       "        vertical-align: middle;\n",
       "    }\n",
       "\n",
       "    .dataframe tbody tr th {\n",
       "        vertical-align: top;\n",
       "    }\n",
       "\n",
       "    .dataframe thead th {\n",
       "        text-align: right;\n",
       "    }\n",
       "</style>\n",
       "<table border=\"1\" class=\"dataframe\">\n",
       "  <thead>\n",
       "    <tr style=\"text-align: right;\">\n",
       "      <th></th>\n",
       "      <th>EventName</th>\n",
       "      <th>DeviceIDHash</th>\n",
       "      <th>EventTimestamp</th>\n",
       "      <th>ExpId</th>\n",
       "    </tr>\n",
       "  </thead>\n",
       "  <tbody>\n",
       "    <tr>\n",
       "      <td>0</td>\n",
       "      <td>MainScreenAppear</td>\n",
       "      <td>4575588528974610257</td>\n",
       "      <td>1564029816</td>\n",
       "      <td>246</td>\n",
       "    </tr>\n",
       "    <tr>\n",
       "      <td>1</td>\n",
       "      <td>MainScreenAppear</td>\n",
       "      <td>7416695313311560658</td>\n",
       "      <td>1564053102</td>\n",
       "      <td>246</td>\n",
       "    </tr>\n",
       "    <tr>\n",
       "      <td>2</td>\n",
       "      <td>PaymentScreenSuccessful</td>\n",
       "      <td>3518123091307005509</td>\n",
       "      <td>1564054127</td>\n",
       "      <td>248</td>\n",
       "    </tr>\n",
       "    <tr>\n",
       "      <td>3</td>\n",
       "      <td>CartScreenAppear</td>\n",
       "      <td>3518123091307005509</td>\n",
       "      <td>1564054127</td>\n",
       "      <td>248</td>\n",
       "    </tr>\n",
       "    <tr>\n",
       "      <td>4</td>\n",
       "      <td>PaymentScreenSuccessful</td>\n",
       "      <td>6217807653094995999</td>\n",
       "      <td>1564055322</td>\n",
       "      <td>248</td>\n",
       "    </tr>\n",
       "  </tbody>\n",
       "</table>\n",
       "</div>"
      ],
      "text/plain": [
       "                 EventName         DeviceIDHash  EventTimestamp  ExpId\n",
       "0         MainScreenAppear  4575588528974610257      1564029816    246\n",
       "1         MainScreenAppear  7416695313311560658      1564053102    246\n",
       "2  PaymentScreenSuccessful  3518123091307005509      1564054127    248\n",
       "3         CartScreenAppear  3518123091307005509      1564054127    248\n",
       "4  PaymentScreenSuccessful  6217807653094995999      1564055322    248"
      ]
     },
     "execution_count": 3,
     "metadata": {},
     "output_type": "execute_result"
    }
   ],
   "source": [
    "logs.head(5)"
   ]
  },
  {
   "cell_type": "code",
   "execution_count": 4,
   "metadata": {
    "scrolled": false
   },
   "outputs": [
    {
     "name": "stdout",
     "output_type": "stream",
     "text": [
      "<class 'pandas.core.frame.DataFrame'>\n",
      "RangeIndex: 244126 entries, 0 to 244125\n",
      "Data columns (total 4 columns):\n",
      "EventName         244126 non-null object\n",
      "DeviceIDHash      244126 non-null int64\n",
      "EventTimestamp    244126 non-null int64\n",
      "ExpId             244126 non-null int64\n",
      "dtypes: int64(3), object(1)\n",
      "memory usage: 7.5+ MB\n"
     ]
    }
   ],
   "source": [
    "logs.info()"
   ]
  },
  {
   "cell_type": "markdown",
   "metadata": {},
   "source": [
    "#### Вывод: \n",
    "\n",
    "Получена таблица с логми пользователей. Объём датасета 4 поля,  244126 строк.\n"
   ]
  },
  {
   "cell_type": "markdown",
   "metadata": {},
   "source": [
    "## Шаг 2. Подготовка данных"
   ]
  },
  {
   "cell_type": "code",
   "execution_count": 5,
   "metadata": {},
   "outputs": [],
   "source": [
    "#переименуем названия столбцов\n",
    "logs.rename(columns={'EventName': 'event_type', \n",
    "                     'DeviceIDHash': 'user_id', \n",
    "                     'EventTimestamp': 'event_time_unix',\n",
    "                     'ExpId':'group'}, inplace=True)"
   ]
  },
  {
   "cell_type": "code",
   "execution_count": 6,
   "metadata": {
    "scrolled": true
   },
   "outputs": [
    {
     "name": "stdout",
     "output_type": "stream",
     "text": [
      "<class 'pandas.core.frame.DataFrame'>\n",
      "RangeIndex: 244126 entries, 0 to 244125\n",
      "Data columns (total 4 columns):\n",
      "event_type         244126 non-null object\n",
      "user_id            244126 non-null int64\n",
      "event_time_unix    244126 non-null int64\n",
      "group              244126 non-null int64\n",
      "dtypes: int64(3), object(1)\n",
      "memory usage: 7.5+ MB\n"
     ]
    }
   ],
   "source": [
    "logs.info()"
   ]
  },
  {
   "cell_type": "code",
   "execution_count": 7,
   "metadata": {},
   "outputs": [
    {
     "data": {
      "text/plain": [
       "413"
      ]
     },
     "execution_count": 7,
     "metadata": {},
     "output_type": "execute_result"
    }
   ],
   "source": [
    "# ищем дубликаты\n",
    "logs.duplicated().sum()"
   ]
  },
  {
   "cell_type": "code",
   "execution_count": 8,
   "metadata": {},
   "outputs": [],
   "source": [
    "# удаляем дубликаты\n",
    "logs = logs.drop_duplicates().reset_index(drop = True)"
   ]
  },
  {
   "cell_type": "code",
   "execution_count": 9,
   "metadata": {},
   "outputs": [],
   "source": [
    "# переводим в текстовый вид user_id и group\n",
    "logs['user_id'] = logs['user_id'].astype('str')\n",
    "logs['group'] = logs['group'].astype('str')"
   ]
  },
  {
   "cell_type": "code",
   "execution_count": 10,
   "metadata": {},
   "outputs": [],
   "source": [
    "#переводим формат из unix в datetime\n",
    "logs['event_datetime'] = pd.to_datetime(logs['event_time_unix'], unit='s')"
   ]
  },
  {
   "cell_type": "code",
   "execution_count": 11,
   "metadata": {},
   "outputs": [],
   "source": [
    "#переводим формат из unix в datetime дни\n",
    "logs['event_date'] = logs['event_datetime'].astype('datetime64[D]')"
   ]
  },
  {
   "cell_type": "markdown",
   "metadata": {},
   "source": [
    "#### Вывод:\n",
    " - Переимнованы столбцы: EventName': 'event_type',  'DeviceIDHash': 'user_id', 'EventTimestamp': 'event_time_unix', 'ExpId':'group'\n",
    " - Удалены дубликаты  - 413 шт.;\n",
    " - Переведён в строчный формат: 'user_id', 'group';\n",
    " - Создан столбцец с датой и временем 'event_datetime' в формате datetime\n",
    " - Создан столбцец с датой 'event_date'"
   ]
  },
  {
   "cell_type": "markdown",
   "metadata": {},
   "source": [
    "## Шаг 3. Изучите и проверьте данные"
   ]
  },
  {
   "cell_type": "markdown",
   "metadata": {},
   "source": [
    "#### Сколько всего событий в логе?"
   ]
  },
  {
   "cell_type": "code",
   "execution_count": 12,
   "metadata": {
    "scrolled": true
   },
   "outputs": [
    {
     "data": {
      "text/plain": [
       "array(['MainScreenAppear', 'PaymentScreenSuccessful', 'CartScreenAppear',\n",
       "       'OffersScreenAppear', 'Tutorial'], dtype=object)"
      ]
     },
     "execution_count": 12,
     "metadata": {},
     "output_type": "execute_result"
    }
   ],
   "source": [
    "#уникальные события в логах\n",
    "logs['event_type'].unique()"
   ]
  },
  {
   "cell_type": "code",
   "execution_count": 13,
   "metadata": {},
   "outputs": [
    {
     "data": {
      "text/plain": [
       "5"
      ]
     },
     "execution_count": 13,
     "metadata": {},
     "output_type": "execute_result"
    }
   ],
   "source": [
    "#количество событий\n",
    "len(logs['event_type'].unique())"
   ]
  },
  {
   "cell_type": "markdown",
   "metadata": {},
   "source": [
    "#### Сколько в среднем событий приходится на пользователя?"
   ]
  },
  {
   "cell_type": "code",
   "execution_count": 14,
   "metadata": {},
   "outputs": [
    {
     "data": {
      "text/plain": [
       "20.0"
      ]
     },
     "execution_count": 14,
     "metadata": {},
     "output_type": "execute_result"
    }
   ],
   "source": [
    "#найдём медиану\n",
    "logs_event_type = logs.groupby('user_id').agg({'event_type':'count'}).reset_index()\n",
    "#переименуем столбцы\n",
    "logs_event_type.set_axis(['user_id', 'event_type_count'], axis = 'columns', inplace = True)\n",
    "#найдём медиану\n",
    "logs_event_type['event_type_count'].median()"
   ]
  },
  {
   "cell_type": "markdown",
   "metadata": {},
   "source": [
    "####  Данными за какой период вы располагаете? Найдите максимальную и минимальную дату. Постройте гистограмму по дате и времени. Можно ли быть уверенным, что у вас одинаково полные данные за весь период? Технически в логи новых дней по некоторым пользователям могут «доезжать» события из прошлого — это может «перекашивать данные». Определите, с какого момента данные полные и отбросьте более старые. Данными за какой период времени вы располагаете на самом деле?"
   ]
  },
  {
   "cell_type": "code",
   "execution_count": 15,
   "metadata": {},
   "outputs": [
    {
     "data": {
      "text/plain": [
       "Timestamp('2019-07-25 04:43:36')"
      ]
     },
     "execution_count": 15,
     "metadata": {},
     "output_type": "execute_result"
    }
   ],
   "source": [
    "#данные с \n",
    "logs['event_datetime'].min()"
   ]
  },
  {
   "cell_type": "code",
   "execution_count": 16,
   "metadata": {},
   "outputs": [
    {
     "data": {
      "text/plain": [
       "Timestamp('2019-08-07 21:15:17')"
      ]
     },
     "execution_count": 16,
     "metadata": {},
     "output_type": "execute_result"
    }
   ],
   "source": [
    "# по\n",
    "logs['event_datetime'].max()"
   ]
  },
  {
   "cell_type": "code",
   "execution_count": 17,
   "metadata": {},
   "outputs": [
    {
     "data": {
      "text/plain": [
       "Timedelta('13 days 16:31:41')"
      ]
     },
     "execution_count": 17,
     "metadata": {},
     "output_type": "execute_result"
    }
   ],
   "source": [
    "# период\n",
    "logs['event_datetime'].max() - logs['event_datetime'].min()"
   ]
  },
  {
   "cell_type": "code",
   "execution_count": 18,
   "metadata": {
    "scrolled": false
   },
   "outputs": [
    {
     "name": "stderr",
     "output_type": "stream",
     "text": [
      "/opt/conda/lib/python3.7/site-packages/pandas/plotting/_matplotlib/converter.py:103: FutureWarning: Using an implicitly registered datetime converter for a matplotlib plotting method. The converter was registered by pandas on import. Future versions of pandas will require you to explicitly register matplotlib converters.\n",
      "\n",
      "To register the converters:\n",
      "\t>>> from pandas.plotting import register_matplotlib_converters\n",
      "\t>>> register_matplotlib_converters()\n",
      "  warnings.warn(msg, FutureWarning)\n"
     ]
    },
    {
     "data": {
      "image/png": "[encoded data removed]",
      "text/plain": [
       "<Figure size 720x360 with 1 Axes>"
      ]
     },
     "metadata": {
      "needs_background": "light"
     },
     "output_type": "display_data"
    }
   ],
   "source": [
    "ax = plt.subplots(figsize=(10, 5))\n",
    "\n",
    "ax = logs['event_date'].hist(bins = 14)\n",
    "\n",
    "plt.title(\"Количество логов в период теста\")\n",
    "plt.ylabel(\"количество логов\")\n",
    "plt.xlabel(\"даты\")\n",
    "plt.show()"
   ]
  },
  {
   "cell_type": "markdown",
   "metadata": {},
   "source": [
    "\"По оси X даты наезжают друг на друга\" - это баг самой гистограммы, почему-то сетка здесь схлопывается."
   ]
  },
  {
   "cell_type": "markdown",
   "metadata": {},
   "source": [
    "Мы распологаем полными данными с 1 по 8 августа. Данные до 1 августа отброшенные как не полные."
   ]
  },
  {
   "cell_type": "markdown",
   "metadata": {},
   "source": [
    "####  Много ли событий и пользователей вы потеряли, отбросив старые данные?"
   ]
  },
  {
   "cell_type": "code",
   "execution_count": 19,
   "metadata": {},
   "outputs": [
    {
     "data": {
      "text/plain": [
       "7551"
      ]
     },
     "execution_count": 19,
     "metadata": {},
     "output_type": "execute_result"
    }
   ],
   "source": [
    "#количество уникальных пользователей до фильтрации\n",
    "len(logs['user_id'].unique())"
   ]
  },
  {
   "cell_type": "code",
   "execution_count": 20,
   "metadata": {},
   "outputs": [
    {
     "data": {
      "text/plain": [
       "243713"
      ]
     },
     "execution_count": 20,
     "metadata": {},
     "output_type": "execute_result"
    }
   ],
   "source": [
    "#количество событий до фильтрации\n",
    "logs.shape[0]"
   ]
  },
  {
   "cell_type": "code",
   "execution_count": 21,
   "metadata": {},
   "outputs": [],
   "source": [
    "#отфильтровываем данные до 1 августа\n",
    "logs = logs.query('event_date >= \"2019-08-01\"')"
   ]
  },
  {
   "cell_type": "code",
   "execution_count": 22,
   "metadata": {},
   "outputs": [
    {
     "data": {
      "text/plain": [
       "7534"
      ]
     },
     "execution_count": 22,
     "metadata": {},
     "output_type": "execute_result"
    }
   ],
   "source": [
    "#количество уникальных пользователей после фильтрации\n",
    "len(logs['user_id'].unique())"
   ]
  },
  {
   "cell_type": "code",
   "execution_count": 23,
   "metadata": {
    "scrolled": true
   },
   "outputs": [
    {
     "data": {
      "text/plain": [
       "240887"
      ]
     },
     "execution_count": 23,
     "metadata": {},
     "output_type": "execute_result"
    }
   ],
   "source": [
    "#количество событий после фильтрации\n",
    "logs.shape[0]"
   ]
  },
  {
   "cell_type": "markdown",
   "metadata": {},
   "source": [
    "После фильтрации мы потеряли менее 1% уникальных пользователей, и 1.2% логов"
   ]
  },
  {
   "cell_type": "markdown",
   "metadata": {},
   "source": [
    "####  Проверьте, что у вас есть пользователи из всех трёх экспериментальных групп."
   ]
  },
  {
   "cell_type": "code",
   "execution_count": 24,
   "metadata": {},
   "outputs": [
    {
     "data": {
      "text/html": [
       "<div>\n",
       "<style scoped>\n",
       "    .dataframe tbody tr th:only-of-type {\n",
       "        vertical-align: middle;\n",
       "    }\n",
       "\n",
       "    .dataframe tbody tr th {\n",
       "        vertical-align: top;\n",
       "    }\n",
       "\n",
       "    .dataframe thead th {\n",
       "        text-align: right;\n",
       "    }\n",
       "</style>\n",
       "<table border=\"1\" class=\"dataframe\">\n",
       "  <thead>\n",
       "    <tr style=\"text-align: right;\">\n",
       "      <th></th>\n",
       "      <th>group</th>\n",
       "      <th>user_id</th>\n",
       "    </tr>\n",
       "  </thead>\n",
       "  <tbody>\n",
       "    <tr>\n",
       "      <td>0</td>\n",
       "      <td>246</td>\n",
       "      <td>2484</td>\n",
       "    </tr>\n",
       "    <tr>\n",
       "      <td>1</td>\n",
       "      <td>247</td>\n",
       "      <td>2513</td>\n",
       "    </tr>\n",
       "    <tr>\n",
       "      <td>2</td>\n",
       "      <td>248</td>\n",
       "      <td>2537</td>\n",
       "    </tr>\n",
       "  </tbody>\n",
       "</table>\n",
       "</div>"
      ],
      "text/plain": [
       "  group  user_id\n",
       "0   246     2484\n",
       "1   247     2513\n",
       "2   248     2537"
      ]
     },
     "execution_count": 24,
     "metadata": {},
     "output_type": "execute_result"
    }
   ],
   "source": [
    "logs.groupby('group').agg({'user_id':'nunique'}).reset_index()"
   ]
  },
  {
   "cell_type": "code",
   "execution_count": 25,
   "metadata": {},
   "outputs": [
    {
     "data": {
      "text/html": [
       "<div>\n",
       "<style scoped>\n",
       "    .dataframe tbody tr th:only-of-type {\n",
       "        vertical-align: middle;\n",
       "    }\n",
       "\n",
       "    .dataframe tbody tr th {\n",
       "        vertical-align: top;\n",
       "    }\n",
       "\n",
       "    .dataframe thead th {\n",
       "        text-align: right;\n",
       "    }\n",
       "</style>\n",
       "<table border=\"1\" class=\"dataframe\">\n",
       "  <thead>\n",
       "    <tr style=\"text-align: right;\">\n",
       "      <th>event_type</th>\n",
       "      <th>group</th>\n",
       "      <th>CartScreenAppear</th>\n",
       "      <th>MainScreenAppear</th>\n",
       "      <th>OffersScreenAppear</th>\n",
       "      <th>PaymentScreenSuccessful</th>\n",
       "      <th>Tutorial</th>\n",
       "    </tr>\n",
       "  </thead>\n",
       "  <tbody>\n",
       "    <tr>\n",
       "      <td>0</td>\n",
       "      <td>246</td>\n",
       "      <td>1266</td>\n",
       "      <td>2450</td>\n",
       "      <td>1542</td>\n",
       "      <td>1200</td>\n",
       "      <td>278</td>\n",
       "    </tr>\n",
       "    <tr>\n",
       "      <td>1</td>\n",
       "      <td>247</td>\n",
       "      <td>1238</td>\n",
       "      <td>2476</td>\n",
       "      <td>1520</td>\n",
       "      <td>1158</td>\n",
       "      <td>283</td>\n",
       "    </tr>\n",
       "    <tr>\n",
       "      <td>2</td>\n",
       "      <td>248</td>\n",
       "      <td>1230</td>\n",
       "      <td>2493</td>\n",
       "      <td>1531</td>\n",
       "      <td>1181</td>\n",
       "      <td>279</td>\n",
       "    </tr>\n",
       "  </tbody>\n",
       "</table>\n",
       "</div>"
      ],
      "text/plain": [
       "event_type group  CartScreenAppear  MainScreenAppear  OffersScreenAppear  \\\n",
       "0            246              1266              2450                1542   \n",
       "1            247              1238              2476                1520   \n",
       "2            248              1230              2493                1531   \n",
       "\n",
       "event_type  PaymentScreenSuccessful  Tutorial  \n",
       "0                              1200       278  \n",
       "1                              1158       283  \n",
       "2                              1181       279  "
      ]
     },
     "execution_count": 25,
     "metadata": {},
     "output_type": "execute_result"
    }
   ],
   "source": [
    "groups = logs.pivot_table(\n",
    "    index='group', \n",
    "    columns='event_type', \n",
    "    values='user_id',\n",
    "    aggfunc='nunique').reset_index()\n",
    "groups"
   ]
  },
  {
   "cell_type": "markdown",
   "metadata": {},
   "source": [
    "Пользовататели есть во всех трёх группах и во всех событиях"
   ]
  },
  {
   "cell_type": "markdown",
   "metadata": {},
   "source": [
    "#### Вывод:\n",
    " - Имеются данные в период с 2019-07-25 по 2019-08-07, длительностью -  14 дней;\n",
    " - Отфильтровав данные получаем период с 2019-08-01 по 2019-08-07 - 7 дней;\n",
    " - После фильтрации мы потеряли менее 1% уникальных пользователей, и 1.2% логов;\n",
    " - Пользователи есть во всех трёх экспериментальных группах"
   ]
  },
  {
   "cell_type": "markdown",
   "metadata": {},
   "source": [
    "## Шаг 4. Изучите воронку событий"
   ]
  },
  {
   "cell_type": "markdown",
   "metadata": {},
   "source": [
    "####  Посмотрите, какие события есть в логах, как часто они встречаются. Отсортируйте события по частоте."
   ]
  },
  {
   "cell_type": "code",
   "execution_count": 26,
   "metadata": {
    "scrolled": false
   },
   "outputs": [
    {
     "data": {
      "text/plain": [
       "array(['Tutorial', 'MainScreenAppear', 'OffersScreenAppear',\n",
       "       'CartScreenAppear', 'PaymentScreenSuccessful'], dtype=object)"
      ]
     },
     "execution_count": 26,
     "metadata": {},
     "output_type": "execute_result"
    }
   ],
   "source": [
    "#уникальные события в логах\n",
    "logs['event_type'].unique()"
   ]
  },
  {
   "cell_type": "code",
   "execution_count": 27,
   "metadata": {},
   "outputs": [
    {
     "data": {
      "text/html": [
       "<div>\n",
       "<style scoped>\n",
       "    .dataframe tbody tr th:only-of-type {\n",
       "        vertical-align: middle;\n",
       "    }\n",
       "\n",
       "    .dataframe tbody tr th {\n",
       "        vertical-align: top;\n",
       "    }\n",
       "\n",
       "    .dataframe thead th {\n",
       "        text-align: right;\n",
       "    }\n",
       "</style>\n",
       "<table border=\"1\" class=\"dataframe\">\n",
       "  <thead>\n",
       "    <tr style=\"text-align: right;\">\n",
       "      <th></th>\n",
       "      <th>event_type</th>\n",
       "      <th>user_id</th>\n",
       "    </tr>\n",
       "  </thead>\n",
       "  <tbody>\n",
       "    <tr>\n",
       "      <td>1</td>\n",
       "      <td>MainScreenAppear</td>\n",
       "      <td>117328</td>\n",
       "    </tr>\n",
       "    <tr>\n",
       "      <td>2</td>\n",
       "      <td>OffersScreenAppear</td>\n",
       "      <td>46333</td>\n",
       "    </tr>\n",
       "    <tr>\n",
       "      <td>0</td>\n",
       "      <td>CartScreenAppear</td>\n",
       "      <td>42303</td>\n",
       "    </tr>\n",
       "    <tr>\n",
       "      <td>3</td>\n",
       "      <td>PaymentScreenSuccessful</td>\n",
       "      <td>33918</td>\n",
       "    </tr>\n",
       "    <tr>\n",
       "      <td>4</td>\n",
       "      <td>Tutorial</td>\n",
       "      <td>1005</td>\n",
       "    </tr>\n",
       "  </tbody>\n",
       "</table>\n",
       "</div>"
      ],
      "text/plain": [
       "                event_type  user_id\n",
       "1         MainScreenAppear   117328\n",
       "2       OffersScreenAppear    46333\n",
       "0         CartScreenAppear    42303\n",
       "3  PaymentScreenSuccessful    33918\n",
       "4                 Tutorial     1005"
      ]
     },
     "execution_count": 27,
     "metadata": {},
     "output_type": "execute_result"
    }
   ],
   "source": [
    "#частота событий\n",
    "logs.groupby('event_type').agg({'user_id':'count'}).reset_index().sort_values(by = 'user_id', ascending = False)"
   ]
  },
  {
   "cell_type": "markdown",
   "metadata": {},
   "source": [
    "####  Посчитайте, сколько пользователей совершали каждое из этих событий. Отсортируйте события по числу пользователей. Посчитайте долю пользователей, которые хоть раз совершали событие."
   ]
  },
  {
   "cell_type": "code",
   "execution_count": 28,
   "metadata": {
    "scrolled": true
   },
   "outputs": [],
   "source": [
    "#находим количество уникальных пользователей во всех событиях\n",
    "event_type_user_unic = logs.groupby('event_type').agg({'user_id':'nunique'}).reset_index().sort_values(by = 'user_id', ascending = False)"
   ]
  },
  {
   "cell_type": "code",
   "execution_count": 29,
   "metadata": {},
   "outputs": [],
   "source": [
    "#находим долю от общего количества пользователй\n",
    "event_type_user_unic['proportion'] = round(event_type_user_unic['user_id']/len(logs['user_id'].unique()),2)"
   ]
  },
  {
   "cell_type": "code",
   "execution_count": 30,
   "metadata": {
    "scrolled": true
   },
   "outputs": [
    {
     "data": {
      "text/html": [
       "<div>\n",
       "<style scoped>\n",
       "    .dataframe tbody tr th:only-of-type {\n",
       "        vertical-align: middle;\n",
       "    }\n",
       "\n",
       "    .dataframe tbody tr th {\n",
       "        vertical-align: top;\n",
       "    }\n",
       "\n",
       "    .dataframe thead th {\n",
       "        text-align: right;\n",
       "    }\n",
       "</style>\n",
       "<table border=\"1\" class=\"dataframe\">\n",
       "  <thead>\n",
       "    <tr style=\"text-align: right;\">\n",
       "      <th></th>\n",
       "      <th>event_type</th>\n",
       "      <th>user_id</th>\n",
       "      <th>proportion</th>\n",
       "    </tr>\n",
       "  </thead>\n",
       "  <tbody>\n",
       "    <tr>\n",
       "      <td>1</td>\n",
       "      <td>MainScreenAppear</td>\n",
       "      <td>7419</td>\n",
       "      <td>0.98</td>\n",
       "    </tr>\n",
       "    <tr>\n",
       "      <td>2</td>\n",
       "      <td>OffersScreenAppear</td>\n",
       "      <td>4593</td>\n",
       "      <td>0.61</td>\n",
       "    </tr>\n",
       "    <tr>\n",
       "      <td>0</td>\n",
       "      <td>CartScreenAppear</td>\n",
       "      <td>3734</td>\n",
       "      <td>0.50</td>\n",
       "    </tr>\n",
       "    <tr>\n",
       "      <td>3</td>\n",
       "      <td>PaymentScreenSuccessful</td>\n",
       "      <td>3539</td>\n",
       "      <td>0.47</td>\n",
       "    </tr>\n",
       "    <tr>\n",
       "      <td>4</td>\n",
       "      <td>Tutorial</td>\n",
       "      <td>840</td>\n",
       "      <td>0.11</td>\n",
       "    </tr>\n",
       "  </tbody>\n",
       "</table>\n",
       "</div>"
      ],
      "text/plain": [
       "                event_type  user_id  proportion\n",
       "1         MainScreenAppear     7419        0.98\n",
       "2       OffersScreenAppear     4593        0.61\n",
       "0         CartScreenAppear     3734        0.50\n",
       "3  PaymentScreenSuccessful     3539        0.47\n",
       "4                 Tutorial      840        0.11"
      ]
     },
     "execution_count": 30,
     "metadata": {},
     "output_type": "execute_result"
    }
   ],
   "source": [
    "event_type_user_unic"
   ]
  },
  {
   "cell_type": "markdown",
   "metadata": {},
   "source": [
    "####  Предположите, в каком порядке происходят события. Все ли они выстраиваются в последовательную цепочку? Их не нужно учитывать при расчёте воронки."
   ]
  },
  {
   "cell_type": "markdown",
   "metadata": {},
   "source": [
    "Последовательность событий:\n",
    " - Main Screen Appear\n",
    " - Offers Screen Appear\n",
    " - Cart Screen Appear\n",
    " - Payment Screen Successful\n",
    " \n",
    " \n",
    "Отельное событие:\n",
    " - Tutorial"
   ]
  },
  {
   "cell_type": "markdown",
   "metadata": {},
   "source": [
    "####  По воронке событий посчитайте, какая доля пользователей проходит на следующий шаг воронки (от числа пользователей на предыдущем). То есть для последовательности событий A → B → C, посчитайте отношение числа пользователей с событием B к количеству пользователей с событием A."
   ]
  },
  {
   "cell_type": "code",
   "execution_count": 31,
   "metadata": {
    "scrolled": false
   },
   "outputs": [
    {
     "data": {
      "text/html": [
       "<div>\n",
       "<style scoped>\n",
       "    .dataframe tbody tr th:only-of-type {\n",
       "        vertical-align: middle;\n",
       "    }\n",
       "\n",
       "    .dataframe tbody tr th {\n",
       "        vertical-align: top;\n",
       "    }\n",
       "\n",
       "    .dataframe thead th {\n",
       "        text-align: right;\n",
       "    }\n",
       "</style>\n",
       "<table border=\"1\" class=\"dataframe\">\n",
       "  <thead>\n",
       "    <tr style=\"text-align: right;\">\n",
       "      <th>event_type</th>\n",
       "      <th>user_id</th>\n",
       "      <th>MainScreenAppear</th>\n",
       "      <th>OffersScreenAppear</th>\n",
       "      <th>CartScreenAppear</th>\n",
       "      <th>PaymentScreenSuccessful</th>\n",
       "    </tr>\n",
       "  </thead>\n",
       "  <tbody>\n",
       "    <tr>\n",
       "      <td>0</td>\n",
       "      <td>1000608915523616548</td>\n",
       "      <td>2019-08-01 16:05:50</td>\n",
       "      <td>2019-08-07 16:15:07</td>\n",
       "      <td>NaT</td>\n",
       "      <td>NaT</td>\n",
       "    </tr>\n",
       "    <tr>\n",
       "      <td>1</td>\n",
       "      <td>100724994572555335</td>\n",
       "      <td>2019-08-05 16:06:45</td>\n",
       "      <td>NaT</td>\n",
       "      <td>NaT</td>\n",
       "      <td>NaT</td>\n",
       "    </tr>\n",
       "    <tr>\n",
       "      <td>2</td>\n",
       "      <td>1008242126838007188</td>\n",
       "      <td>2019-08-01 09:32:21</td>\n",
       "      <td>2019-08-01 09:32:29</td>\n",
       "      <td>2019-08-01 09:32:23</td>\n",
       "      <td>2019-08-01 09:32:23</td>\n",
       "    </tr>\n",
       "    <tr>\n",
       "      <td>3</td>\n",
       "      <td>1009503747199967885</td>\n",
       "      <td>2019-08-04 16:34:04</td>\n",
       "      <td>2019-08-04 16:30:26</td>\n",
       "      <td>2019-08-05 09:59:26</td>\n",
       "      <td>2019-08-05 09:59:25</td>\n",
       "    </tr>\n",
       "    <tr>\n",
       "      <td>4</td>\n",
       "      <td>1009745980451513098</td>\n",
       "      <td>2019-08-01 15:28:01</td>\n",
       "      <td>2019-08-01 15:38:05</td>\n",
       "      <td>2019-08-01 15:29:00</td>\n",
       "      <td>2019-08-02 16:36:07</td>\n",
       "    </tr>\n",
       "  </tbody>\n",
       "</table>\n",
       "</div>"
      ],
      "text/plain": [
       "event_type              user_id    MainScreenAppear  OffersScreenAppear  \\\n",
       "0           1000608915523616548 2019-08-01 16:05:50 2019-08-07 16:15:07   \n",
       "1            100724994572555335 2019-08-05 16:06:45                 NaT   \n",
       "2           1008242126838007188 2019-08-01 09:32:21 2019-08-01 09:32:29   \n",
       "3           1009503747199967885 2019-08-04 16:34:04 2019-08-04 16:30:26   \n",
       "4           1009745980451513098 2019-08-01 15:28:01 2019-08-01 15:38:05   \n",
       "\n",
       "event_type    CartScreenAppear PaymentScreenSuccessful  \n",
       "0                          NaT                     NaT  \n",
       "1                          NaT                     NaT  \n",
       "2          2019-08-01 09:32:23     2019-08-01 09:32:23  \n",
       "3          2019-08-05 09:59:26     2019-08-05 09:59:25  \n",
       "4          2019-08-01 15:29:00     2019-08-02 16:36:07  "
      ]
     },
     "execution_count": 31,
     "metadata": {},
     "output_type": "execute_result"
    }
   ],
   "source": [
    "users = logs.pivot_table(\n",
    "    index='user_id', \n",
    "    columns='event_type', \n",
    "    values='event_datetime',\n",
    "    aggfunc='min').reset_index()\n",
    "\n",
    "users = users[['user_id', 'MainScreenAppear', 'OffersScreenAppear', 'CartScreenAppear', 'PaymentScreenSuccessful']]\n",
    "#сообщить о временных сбоях!\n",
    "users.head(5)"
   ]
  },
  {
   "cell_type": "code",
   "execution_count": 32,
   "metadata": {},
   "outputs": [
    {
     "name": "stdout",
     "output_type": "stream",
     "text": [
      "Главный экран: 7419\n",
      "Товары: 4593\n",
      "Добавили товара в корзину: 3734\n",
      "Оплатили: 3539\n"
     ]
    }
   ],
   "source": [
    "#находим количество пользователей для каждого события\n",
    "step_1 = ~users['MainScreenAppear'].isna()\n",
    "step_2 = ~users['OffersScreenAppear'].isna()\n",
    "step_3 = ~users['CartScreenAppear'].isna()\n",
    "step_4 = ~users['PaymentScreenSuccessful'].isna()\n",
    "\n",
    "\n",
    "n_main = users[step_1].shape[0]\n",
    "n_offers = users[step_2].shape[0]\n",
    "n_add_to_cart = users[step_3].shape[0]\n",
    "n_payment = users[step_4].shape[0]\n",
    "\n",
    "\n",
    "print('Главный экран:', n_main)\n",
    "print('Товары:', n_offers)\n",
    "print('Добавили товара в корзину:', n_add_to_cart)\n",
    "print('Оплатили:', n_payment)"
   ]
  },
  {
   "cell_type": "code",
   "execution_count": 33,
   "metadata": {},
   "outputs": [
    {
     "data": {
      "text/plain": [
       "0.62"
      ]
     },
     "execution_count": 33,
     "metadata": {},
     "output_type": "execute_result"
    }
   ],
   "source": [
    "#Товары/Главный экран\n",
    "round(n_offers/n_main,2)"
   ]
  },
  {
   "cell_type": "code",
   "execution_count": 34,
   "metadata": {},
   "outputs": [
    {
     "data": {
      "text/plain": [
       "0.81"
      ]
     },
     "execution_count": 34,
     "metadata": {},
     "output_type": "execute_result"
    }
   ],
   "source": [
    "#Добавили товара в корзину/Товары\n",
    "round(n_add_to_cart/n_offers,2)"
   ]
  },
  {
   "cell_type": "code",
   "execution_count": 35,
   "metadata": {},
   "outputs": [
    {
     "data": {
      "text/plain": [
       "0.95"
      ]
     },
     "execution_count": 35,
     "metadata": {},
     "output_type": "execute_result"
    }
   ],
   "source": [
    "#Оплатили/Добавили товара в корзину\n",
    "round(n_payment/n_add_to_cart,2)"
   ]
  },
  {
   "cell_type": "markdown",
   "metadata": {},
   "source": [
    "Доля переходов:\n",
    "- OffersScreenAppear / MainScreenAppear: 0.62\n",
    "- CartScreenAppear / OffersScreenAppear: 0.81\n",
    "- PaymentScreenSuccessful / CartScreenAppear: 0.95"
   ]
  },
  {
   "cell_type": "markdown",
   "metadata": {},
   "source": [
    "####   На каком шаге теряете больше всего пользователей?"
   ]
  },
  {
   "cell_type": "markdown",
   "metadata": {},
   "source": [
    "OffersScreenAppear / MainScreenAppear"
   ]
  },
  {
   "cell_type": "markdown",
   "metadata": {},
   "source": [
    "####  Какая доля пользователей доходит от первого события до оплаты?"
   ]
  },
  {
   "cell_type": "code",
   "execution_count": 36,
   "metadata": {
    "scrolled": true
   },
   "outputs": [
    {
     "data": {
      "text/plain": [
       "0.48"
      ]
     },
     "execution_count": 36,
     "metadata": {},
     "output_type": "execute_result"
    }
   ],
   "source": [
    "round(n_payment/n_main,2)"
   ]
  },
  {
   "cell_type": "markdown",
   "metadata": {},
   "source": [
    "#### Вывод:\n",
    "\n",
    "Доля переходов в событиях:\n",
    "\n",
    "- OffersScreenAppear / MainScreenAppear: 0.62\n",
    "- CartScreenAppear / OffersScreenAppear: 0.81\n",
    "- PaymentScreenSuccessful / CartScreenAppear: 0.95\n",
    " \n",
    "Больше всего пользователей теряется на шаге:  OffersScreenAppear / MainScreenAppear\n",
    "\n",
    "Доля пользователей которая доходит от первого события до оплаты: 48%\n",
    " "
   ]
  },
  {
   "cell_type": "markdown",
   "metadata": {},
   "source": [
    "## Шаг 5. Изучите результаты эксперимента"
   ]
  },
  {
   "cell_type": "markdown",
   "metadata": {},
   "source": [
    "####  Сколько пользователей в каждой экспериментальной группе?"
   ]
  },
  {
   "cell_type": "code",
   "execution_count": 37,
   "metadata": {
    "scrolled": true
   },
   "outputs": [
    {
     "data": {
      "text/html": [
       "<div>\n",
       "<style scoped>\n",
       "    .dataframe tbody tr th:only-of-type {\n",
       "        vertical-align: middle;\n",
       "    }\n",
       "\n",
       "    .dataframe tbody tr th {\n",
       "        vertical-align: top;\n",
       "    }\n",
       "\n",
       "    .dataframe thead th {\n",
       "        text-align: right;\n",
       "    }\n",
       "</style>\n",
       "<table border=\"1\" class=\"dataframe\">\n",
       "  <thead>\n",
       "    <tr style=\"text-align: right;\">\n",
       "      <th></th>\n",
       "      <th>group</th>\n",
       "      <th>user_id</th>\n",
       "    </tr>\n",
       "  </thead>\n",
       "  <tbody>\n",
       "    <tr>\n",
       "      <td>0</td>\n",
       "      <td>246</td>\n",
       "      <td>2484</td>\n",
       "    </tr>\n",
       "    <tr>\n",
       "      <td>1</td>\n",
       "      <td>247</td>\n",
       "      <td>2513</td>\n",
       "    </tr>\n",
       "    <tr>\n",
       "      <td>2</td>\n",
       "      <td>248</td>\n",
       "      <td>2537</td>\n",
       "    </tr>\n",
       "  </tbody>\n",
       "</table>\n",
       "</div>"
      ],
      "text/plain": [
       "  group  user_id\n",
       "0   246     2484\n",
       "1   247     2513\n",
       "2   248     2537"
      ]
     },
     "execution_count": 37,
     "metadata": {},
     "output_type": "execute_result"
    }
   ],
   "source": [
    "logs.groupby('group').agg({'user_id':'nunique'}).reset_index()"
   ]
  },
  {
   "cell_type": "markdown",
   "metadata": {},
   "source": [
    "####  Есть 2 контрольные группы для А/А-эксперимента, чтобы проверить корректность всех механизмов и расчётов. Проверьте, находят ли статистические критерии разницу между выборками 246 и 247."
   ]
  },
  {
   "cell_type": "markdown",
   "metadata": {},
   "source": [
    "Сформулируем гипотезу:\n",
    " - H0: Нет значимой разницы в долях конверссии двух групп;\n",
    " - H1: Есть разница в долях конверссии двух групп;"
   ]
  },
  {
   "cell_type": "code",
   "execution_count": 38,
   "metadata": {},
   "outputs": [
    {
     "name": "stdout",
     "output_type": "stream",
     "text": [
      "Главный экран: 2450\n",
      "Товары: 1542\n",
      "Добавили товара в корзину: 1266\n",
      "Оплатили: 1200\n"
     ]
    }
   ],
   "source": [
    "#находим количество уникальных событий для 246 гуппы\n",
    "users_246 = logs.query('group == \"246\"').pivot_table(\n",
    "    index='user_id', \n",
    "    columns='event_type', \n",
    "    values='event_datetime',\n",
    "    aggfunc='min').reset_index()\n",
    "\n",
    "#перегрупировываем столбцы \n",
    "users_246 = users_246[['user_id', 'MainScreenAppear', 'OffersScreenAppear', 'CartScreenAppear', 'PaymentScreenSuccessful']]\n",
    "\n",
    "#находим количество пользователей для каждого события\n",
    "step_1 = ~users_246['MainScreenAppear'].isna()\n",
    "step_2 = ~users_246['OffersScreenAppear'].isna()\n",
    "step_3 = ~users_246['CartScreenAppear'].isna()\n",
    "step_4 = ~users_246['PaymentScreenSuccessful'].isna()\n",
    "\n",
    "\n",
    "n_main_246 = users_246[step_1].shape[0]\n",
    "n_offers_246 = users_246[step_2].shape[0]\n",
    "n_add_to_cart_246 = users_246[step_3].shape[0]\n",
    "n_payment_246 = users_246[step_4].shape[0]\n",
    "\n",
    "print('Главный экран:', n_main_246)\n",
    "print('Товары:', n_offers_246)\n",
    "print('Добавили товара в корзину:', n_add_to_cart_246)\n",
    "print('Оплатили:', n_payment_246)"
   ]
  },
  {
   "cell_type": "code",
   "execution_count": 39,
   "metadata": {},
   "outputs": [
    {
     "name": "stdout",
     "output_type": "stream",
     "text": [
      "Главный экран: 2476\n",
      "Товары: 1520\n",
      "Добавили товара в корзину: 1238\n",
      "Оплатили: 1158\n"
     ]
    }
   ],
   "source": [
    "#находим количество уникальных событий для 247 гуппы\n",
    "users_247 = logs.query('group == \"247\"').pivot_table(\n",
    "    index='user_id', \n",
    "    columns='event_type', \n",
    "    values='event_datetime',\n",
    "    aggfunc='min').reset_index()\n",
    "\n",
    "#перегрупировываем столбцы \n",
    "users_247 = users_247[['user_id', 'MainScreenAppear', 'OffersScreenAppear', 'CartScreenAppear', 'PaymentScreenSuccessful']]\n",
    "\n",
    "#находим количество пользователей для каждого события\n",
    "step_1 = ~users_247['MainScreenAppear'].isna()\n",
    "step_2 = ~users_247['OffersScreenAppear'].isna()\n",
    "step_3 = ~users_247['CartScreenAppear'].isna()\n",
    "step_4 = ~users_247['PaymentScreenSuccessful'].isna()\n",
    "\n",
    "\n",
    "n_main_247 = users_247[step_1].shape[0]\n",
    "n_offers_247 = users_247[step_2].shape[0]\n",
    "n_add_to_cart_247 = users_247[step_3].shape[0]\n",
    "n_payment_247 = users_247[step_4].shape[0]\n",
    "\n",
    "print('Главный экран:', n_main_247)\n",
    "print('Товары:', n_offers_247)\n",
    "print('Добавили товара в корзину:', n_add_to_cart_247)\n",
    "print('Оплатили:', n_payment_247)"
   ]
  },
  {
   "cell_type": "code",
   "execution_count": 40,
   "metadata": {},
   "outputs": [
    {
     "name": "stdout",
     "output_type": "stream",
     "text": [
      "p-значение:  0.12044299485641763\n",
      "Не получилось отвергнуть нулевую гипотезу, нет оснований считать доли разными\n"
     ]
    }
   ],
   "source": [
    "alpha = .05 # критический уровень статистической значимости\n",
    "\n",
    "# пропорция успехов в первой группе:\n",
    "p246 = n_payment_246/n_main_246\n",
    "\n",
    "# пропорция успехов во второй группе:\n",
    "p247 = n_payment_247/n_main_247\n",
    "\n",
    "# пропорция успехов в комбинированном датасете:\n",
    "p_combined = (n_payment_246 + n_payment_247) / (n_main_246 + n_main_247)\n",
    "\n",
    "# разница пропорций в датасетах\n",
    "difference = p246 - p247\n",
    "\n",
    "# считаем статистику в ст.отклонениях стандартного нормального распределения\n",
    "z_value = difference / mth.sqrt(p_combined * (1 - p_combined) * (1/n_main_246 + 1/n_main_247))\n",
    "\n",
    "# задаем стандартное нормальное распределение (среднее 0, ст.отклонение 1)\n",
    "distr = st.norm(0, 1) \n",
    "\n",
    "p_value = (1 - distr.cdf(abs(z_value))) * 2\n",
    "\n",
    "print('p-значение: ', p_value)\n",
    "\n",
    "if (p_value < alpha):\n",
    "    print(\"Отвергаем нулевую гипотезу: между долями есть значимая разница\")\n",
    "else:\n",
    "    print(\"Не получилось отвергнуть нулевую гипотезу, нет оснований считать доли разными\")"
   ]
  },
  {
   "cell_type": "markdown",
   "metadata": {},
   "source": [
    "A/A-тест показал что нет статистически значимой разницы между выборками 246 и 247( p-значение: 0.12, H0). Можно приступать к А/B-тесту."
   ]
  },
  {
   "cell_type": "markdown",
   "metadata": {},
   "source": [
    "####  Выберите самое популярное событие. Посчитайте число пользователей, совершивших это событие в каждой из контрольных групп. Посчитайте долю пользователей, совершивших это событие. Проверьте, будет ли отличие между группами статистически достоверным. Проделайте то же самое для всех других событий (удобно обернуть проверку в отдельную функцию). Можно ли сказать, что разбиение на группы работает корректно?"
   ]
  },
  {
   "cell_type": "markdown",
   "metadata": {},
   "source": [
    "#### A(246)/A(247)"
   ]
  },
  {
   "cell_type": "markdown",
   "metadata": {},
   "source": [
    "Сформулируем гипотезу:\n",
    " - H0: Нет значимой разницы в долях по типу события между двумя группами;\n",
    " - H1: Есть разница в долях по типу события между двух групп;"
   ]
  },
  {
   "cell_type": "code",
   "execution_count": 41,
   "metadata": {},
   "outputs": [],
   "source": [
    "#находим количество уникальных событий для 246 и 247 гупп\n",
    "users_aa = logs.query('group == \"246\" | group == \"247\"').pivot_table(\n",
    "    index='event_type', \n",
    "    columns='group', \n",
    "    values='user_id',\n",
    "    aggfunc='nunique').reset_index()"
   ]
  },
  {
   "cell_type": "code",
   "execution_count": 42,
   "metadata": {
    "scrolled": true
   },
   "outputs": [],
   "source": [
    "#нахом количество уникальных пользователей для каждой группы\n",
    "users_aa['user_unique_246'] = len(logs.query('group == \"246\"')['user_id'].unique())\n",
    "users_aa['user_unique_247'] = len(logs.query('group == \"247\"')['user_id'].unique())"
   ]
  },
  {
   "cell_type": "code",
   "execution_count": 43,
   "metadata": {},
   "outputs": [],
   "source": [
    "#функция z-теста\n",
    "def z_test_group(row):   \n",
    "    alpha = .05/20 # критический уровень статистической значимости c коррекцией\n",
    "\n",
    "    # пропорция успехов в первой группе:\n",
    "    p1 = row[1]/row[3]\n",
    "\n",
    "    # пропорция успехов во второй группе:\n",
    "    p2 = row[2]/row[4]\n",
    "\n",
    "    # пропорция успехов в комбинированном датасете:\n",
    "    p_combined = (row[1] + row[2]) / (row[3] + row[4])\n",
    "\n",
    "    # разница пропорций в датасетах\n",
    "    difference = p1 - p2\n",
    "\n",
    "    # считаем статистику в ст.отклонениях стандартного нормального распределения\n",
    "    z_value = difference / mth.sqrt(p_combined * (1 - p_combined) * (1/row[3] + 1/row[4]))\n",
    "\n",
    "    # задаем стандартное нормальное распределение (среднее 0, ст.отклонение 1)\n",
    "    distr = st.norm(0, 1) \n",
    "\n",
    "    p_value = (1 - distr.cdf(abs(z_value))) * 2\n",
    "\n",
    "\n",
    "    if (p_value < alpha):\n",
    "        return  \"H1\"  'p-значение: ', round(p_value, 3)\n",
    "    else:\n",
    "        return \"H0 - \" 'p-значение: ', round(p_value, 3)"
   ]
  },
  {
   "cell_type": "code",
   "execution_count": 44,
   "metadata": {},
   "outputs": [
    {
     "data": {
      "text/html": [
       "<div>\n",
       "<style scoped>\n",
       "    .dataframe tbody tr th:only-of-type {\n",
       "        vertical-align: middle;\n",
       "    }\n",
       "\n",
       "    .dataframe tbody tr th {\n",
       "        vertical-align: top;\n",
       "    }\n",
       "\n",
       "    .dataframe thead th {\n",
       "        text-align: right;\n",
       "    }\n",
       "</style>\n",
       "<table border=\"1\" class=\"dataframe\">\n",
       "  <thead>\n",
       "    <tr style=\"text-align: right;\">\n",
       "      <th>group</th>\n",
       "      <th>event_type</th>\n",
       "      <th>246</th>\n",
       "      <th>247</th>\n",
       "      <th>user_unique_246</th>\n",
       "      <th>user_unique_247</th>\n",
       "      <th>aa_test</th>\n",
       "    </tr>\n",
       "  </thead>\n",
       "  <tbody>\n",
       "    <tr>\n",
       "      <td>0</td>\n",
       "      <td>MainScreenAppear</td>\n",
       "      <td>2450</td>\n",
       "      <td>2476</td>\n",
       "      <td>2484</td>\n",
       "      <td>2513</td>\n",
       "      <td>(H0 - p-значение: , 0.757)</td>\n",
       "    </tr>\n",
       "    <tr>\n",
       "      <td>1</td>\n",
       "      <td>OffersScreenAppear</td>\n",
       "      <td>1542</td>\n",
       "      <td>1520</td>\n",
       "      <td>2484</td>\n",
       "      <td>2513</td>\n",
       "      <td>(H0 - p-значение: , 0.248)</td>\n",
       "    </tr>\n",
       "    <tr>\n",
       "      <td>2</td>\n",
       "      <td>CartScreenAppear</td>\n",
       "      <td>1266</td>\n",
       "      <td>1238</td>\n",
       "      <td>2484</td>\n",
       "      <td>2513</td>\n",
       "      <td>(H0 - p-значение: , 0.229)</td>\n",
       "    </tr>\n",
       "    <tr>\n",
       "      <td>3</td>\n",
       "      <td>PaymentScreenSuccessful</td>\n",
       "      <td>1200</td>\n",
       "      <td>1158</td>\n",
       "      <td>2484</td>\n",
       "      <td>2513</td>\n",
       "      <td>(H0 - p-значение: , 0.115)</td>\n",
       "    </tr>\n",
       "    <tr>\n",
       "      <td>4</td>\n",
       "      <td>Tutorial</td>\n",
       "      <td>278</td>\n",
       "      <td>283</td>\n",
       "      <td>2484</td>\n",
       "      <td>2513</td>\n",
       "      <td>(H0 - p-значение: , 0.938)</td>\n",
       "    </tr>\n",
       "  </tbody>\n",
       "</table>\n",
       "</div>"
      ],
      "text/plain": [
       "group               event_type   246   247  user_unique_246  user_unique_247  \\\n",
       "0             MainScreenAppear  2450  2476             2484             2513   \n",
       "1           OffersScreenAppear  1542  1520             2484             2513   \n",
       "2             CartScreenAppear  1266  1238             2484             2513   \n",
       "3      PaymentScreenSuccessful  1200  1158             2484             2513   \n",
       "4                     Tutorial   278   283             2484             2513   \n",
       "\n",
       "group                     aa_test  \n",
       "0      (H0 - p-значение: , 0.757)  \n",
       "1      (H0 - p-значение: , 0.248)  \n",
       "2      (H0 - p-значение: , 0.229)  \n",
       "3      (H0 - p-значение: , 0.115)  \n",
       "4      (H0 - p-значение: , 0.938)  "
      ]
     },
     "execution_count": 44,
     "metadata": {},
     "output_type": "execute_result"
    }
   ],
   "source": [
    "#применяем функцию z_test_group\n",
    "users_aa['aa_test'] = users_aa.apply(z_test_group, axis = 1)\n",
    "\n",
    "#сортируем по убыванию\n",
    "users_aa.sort_values(by = \"246\", ascending = False).reset_index(drop = True)"
   ]
  },
  {
   "cell_type": "markdown",
   "metadata": {},
   "source": [
    "Нет статистически значимых различий между группами 246 и 247 по каждому типу события "
   ]
  },
  {
   "cell_type": "markdown",
   "metadata": {},
   "source": [
    "####  Аналогично поступите с группой с изменённым шрифтом. Сравните результаты с каждой из контрольных групп в отдельности по каждому событию. Сравните результаты с объединённой контрольной группой. Какие выводы из эксперимента можно сделать?"
   ]
  },
  {
   "cell_type": "markdown",
   "metadata": {},
   "source": [
    "#### A(246)/B(248)"
   ]
  },
  {
   "cell_type": "markdown",
   "metadata": {},
   "source": [
    "Сформулируем гипотезу:\n",
    " - H0: Нет значимой разницы в долях по типу события между двумя группами;\n",
    " - H1: Есть разница в долях по типу события между двух групп;"
   ]
  },
  {
   "cell_type": "code",
   "execution_count": 45,
   "metadata": {},
   "outputs": [],
   "source": [
    "#находим количество уникальных пользователей по каждому типу событя в двух группах\n",
    "users_246_248 = logs.query('group == \"246\" | group == \"248\"').pivot_table(\n",
    "    index='event_type', \n",
    "    columns='group', \n",
    "    values='user_id',\n",
    "    aggfunc='nunique').reset_index()"
   ]
  },
  {
   "cell_type": "code",
   "execution_count": 46,
   "metadata": {
    "scrolled": true
   },
   "outputs": [],
   "source": [
    "#нахом количество уникальных пользователей для каждой группы\n",
    "users_246_248['user_unique_246'] = len(logs.query('group == \"246\"')['user_id'].unique())\n",
    "users_246_248['user_unique_248'] = len(logs.query('group == \"248\"')['user_id'].unique())"
   ]
  },
  {
   "cell_type": "code",
   "execution_count": 47,
   "metadata": {
    "scrolled": true
   },
   "outputs": [
    {
     "data": {
      "text/html": [
       "<div>\n",
       "<style scoped>\n",
       "    .dataframe tbody tr th:only-of-type {\n",
       "        vertical-align: middle;\n",
       "    }\n",
       "\n",
       "    .dataframe tbody tr th {\n",
       "        vertical-align: top;\n",
       "    }\n",
       "\n",
       "    .dataframe thead th {\n",
       "        text-align: right;\n",
       "    }\n",
       "</style>\n",
       "<table border=\"1\" class=\"dataframe\">\n",
       "  <thead>\n",
       "    <tr style=\"text-align: right;\">\n",
       "      <th>group</th>\n",
       "      <th>event_type</th>\n",
       "      <th>246</th>\n",
       "      <th>248</th>\n",
       "      <th>user_unique_246</th>\n",
       "      <th>user_unique_248</th>\n",
       "      <th>aa_test</th>\n",
       "    </tr>\n",
       "  </thead>\n",
       "  <tbody>\n",
       "    <tr>\n",
       "      <td>0</td>\n",
       "      <td>MainScreenAppear</td>\n",
       "      <td>2450</td>\n",
       "      <td>2493</td>\n",
       "      <td>2484</td>\n",
       "      <td>2537</td>\n",
       "      <td>(H0 - p-значение: , 0.295)</td>\n",
       "    </tr>\n",
       "    <tr>\n",
       "      <td>1</td>\n",
       "      <td>OffersScreenAppear</td>\n",
       "      <td>1542</td>\n",
       "      <td>1531</td>\n",
       "      <td>2484</td>\n",
       "      <td>2537</td>\n",
       "      <td>(H0 - p-значение: , 0.208)</td>\n",
       "    </tr>\n",
       "    <tr>\n",
       "      <td>2</td>\n",
       "      <td>CartScreenAppear</td>\n",
       "      <td>1266</td>\n",
       "      <td>1230</td>\n",
       "      <td>2484</td>\n",
       "      <td>2537</td>\n",
       "      <td>(H0 - p-значение: , 0.078)</td>\n",
       "    </tr>\n",
       "    <tr>\n",
       "      <td>3</td>\n",
       "      <td>PaymentScreenSuccessful</td>\n",
       "      <td>1200</td>\n",
       "      <td>1181</td>\n",
       "      <td>2484</td>\n",
       "      <td>2537</td>\n",
       "      <td>(H0 - p-значение: , 0.212)</td>\n",
       "    </tr>\n",
       "    <tr>\n",
       "      <td>4</td>\n",
       "      <td>Tutorial</td>\n",
       "      <td>278</td>\n",
       "      <td>279</td>\n",
       "      <td>2484</td>\n",
       "      <td>2537</td>\n",
       "      <td>(H0 - p-значение: , 0.826)</td>\n",
       "    </tr>\n",
       "  </tbody>\n",
       "</table>\n",
       "</div>"
      ],
      "text/plain": [
       "group               event_type   246   248  user_unique_246  user_unique_248  \\\n",
       "0             MainScreenAppear  2450  2493             2484             2537   \n",
       "1           OffersScreenAppear  1542  1531             2484             2537   \n",
       "2             CartScreenAppear  1266  1230             2484             2537   \n",
       "3      PaymentScreenSuccessful  1200  1181             2484             2537   \n",
       "4                     Tutorial   278   279             2484             2537   \n",
       "\n",
       "group                     aa_test  \n",
       "0      (H0 - p-значение: , 0.295)  \n",
       "1      (H0 - p-значение: , 0.208)  \n",
       "2      (H0 - p-значение: , 0.078)  \n",
       "3      (H0 - p-значение: , 0.212)  \n",
       "4      (H0 - p-значение: , 0.826)  "
      ]
     },
     "execution_count": 47,
     "metadata": {},
     "output_type": "execute_result"
    }
   ],
   "source": [
    "#применяем функцию z_test_group\n",
    "users_246_248['aa_test'] = users_246_248.apply(z_test_group, axis = 1)\n",
    "#сортируем по убыванию\n",
    "users_246_248.sort_values(by = \"246\", ascending = False).reset_index(drop = True)"
   ]
  },
  {
   "cell_type": "markdown",
   "metadata": {},
   "source": [
    "Нет статистически значимых различий между группами 246 и 248 по каждому типу события"
   ]
  },
  {
   "cell_type": "markdown",
   "metadata": {},
   "source": [
    "#### A(247)/B(248)"
   ]
  },
  {
   "cell_type": "markdown",
   "metadata": {},
   "source": [
    "Сформулируем гипотезу:\n",
    " - H0: Нет значимой разницы в долях по типу события между двумя группами;\n",
    " - H1: Есть разница в долях по типу события между двух групп;"
   ]
  },
  {
   "cell_type": "code",
   "execution_count": 48,
   "metadata": {},
   "outputs": [],
   "source": [
    "#находим количество уникальных пользователей по каждому типу событя в двух группах\n",
    "users_247_248 = logs.query('group == \"247\" | group == \"248\"').pivot_table(\n",
    "    index='event_type', \n",
    "    columns='group', \n",
    "    values='user_id',\n",
    "    aggfunc='nunique').reset_index()"
   ]
  },
  {
   "cell_type": "code",
   "execution_count": 49,
   "metadata": {
    "scrolled": true
   },
   "outputs": [],
   "source": [
    "#нахом количество уникальных пользователей для каждой группы\n",
    "users_247_248['user_unique_247'] = len(logs.query('group == \"247\"')['user_id'].unique())\n",
    "users_247_248['user_unique_248'] = len(logs.query('group == \"248\"')['user_id'].unique())"
   ]
  },
  {
   "cell_type": "code",
   "execution_count": 50,
   "metadata": {
    "scrolled": false
   },
   "outputs": [
    {
     "data": {
      "text/html": [
       "<div>\n",
       "<style scoped>\n",
       "    .dataframe tbody tr th:only-of-type {\n",
       "        vertical-align: middle;\n",
       "    }\n",
       "\n",
       "    .dataframe tbody tr th {\n",
       "        vertical-align: top;\n",
       "    }\n",
       "\n",
       "    .dataframe thead th {\n",
       "        text-align: right;\n",
       "    }\n",
       "</style>\n",
       "<table border=\"1\" class=\"dataframe\">\n",
       "  <thead>\n",
       "    <tr style=\"text-align: right;\">\n",
       "      <th>group</th>\n",
       "      <th>event_type</th>\n",
       "      <th>247</th>\n",
       "      <th>248</th>\n",
       "      <th>user_unique_247</th>\n",
       "      <th>user_unique_248</th>\n",
       "      <th>aa_test</th>\n",
       "    </tr>\n",
       "  </thead>\n",
       "  <tbody>\n",
       "    <tr>\n",
       "      <td>0</td>\n",
       "      <td>MainScreenAppear</td>\n",
       "      <td>2476</td>\n",
       "      <td>2493</td>\n",
       "      <td>2513</td>\n",
       "      <td>2537</td>\n",
       "      <td>(H0 - p-значение: , 0.459)</td>\n",
       "    </tr>\n",
       "    <tr>\n",
       "      <td>1</td>\n",
       "      <td>OffersScreenAppear</td>\n",
       "      <td>1520</td>\n",
       "      <td>1531</td>\n",
       "      <td>2513</td>\n",
       "      <td>2537</td>\n",
       "      <td>(H0 - p-значение: , 0.92)</td>\n",
       "    </tr>\n",
       "    <tr>\n",
       "      <td>2</td>\n",
       "      <td>CartScreenAppear</td>\n",
       "      <td>1238</td>\n",
       "      <td>1230</td>\n",
       "      <td>2513</td>\n",
       "      <td>2537</td>\n",
       "      <td>(H0 - p-значение: , 0.579)</td>\n",
       "    </tr>\n",
       "    <tr>\n",
       "      <td>3</td>\n",
       "      <td>PaymentScreenSuccessful</td>\n",
       "      <td>1158</td>\n",
       "      <td>1181</td>\n",
       "      <td>2513</td>\n",
       "      <td>2537</td>\n",
       "      <td>(H0 - p-значение: , 0.737)</td>\n",
       "    </tr>\n",
       "    <tr>\n",
       "      <td>4</td>\n",
       "      <td>Tutorial</td>\n",
       "      <td>283</td>\n",
       "      <td>279</td>\n",
       "      <td>2513</td>\n",
       "      <td>2537</td>\n",
       "      <td>(H0 - p-значение: , 0.765)</td>\n",
       "    </tr>\n",
       "  </tbody>\n",
       "</table>\n",
       "</div>"
      ],
      "text/plain": [
       "group               event_type   247   248  user_unique_247  user_unique_248  \\\n",
       "0             MainScreenAppear  2476  2493             2513             2537   \n",
       "1           OffersScreenAppear  1520  1531             2513             2537   \n",
       "2             CartScreenAppear  1238  1230             2513             2537   \n",
       "3      PaymentScreenSuccessful  1158  1181             2513             2537   \n",
       "4                     Tutorial   283   279             2513             2537   \n",
       "\n",
       "group                     aa_test  \n",
       "0      (H0 - p-значение: , 0.459)  \n",
       "1       (H0 - p-значение: , 0.92)  \n",
       "2      (H0 - p-значение: , 0.579)  \n",
       "3      (H0 - p-значение: , 0.737)  \n",
       "4      (H0 - p-значение: , 0.765)  "
      ]
     },
     "execution_count": 50,
     "metadata": {},
     "output_type": "execute_result"
    }
   ],
   "source": [
    "#применяем функцию z_test_group\n",
    "users_247_248['aa_test'] = users_247_248.apply(z_test_group, axis = 1)\n",
    "#сортируем по убыванию\n",
    "users_247_248.sort_values(by = \"247\", ascending = False).reset_index(drop = True)"
   ]
  },
  {
   "cell_type": "markdown",
   "metadata": {},
   "source": [
    "Нет статистически значимых различий между группами 247 и 248 по каждому типу события"
   ]
  },
  {
   "cell_type": "markdown",
   "metadata": {},
   "source": [
    "#### A(246+247)/B(248)"
   ]
  },
  {
   "cell_type": "markdown",
   "metadata": {},
   "source": [
    "Сформулируем гипотезу:\n",
    " - H0: Нет значимой разницы в долях по типу события между двумя группами;\n",
    " - H1: Есть разница в долях по типу события между двух групп;"
   ]
  },
  {
   "cell_type": "code",
   "execution_count": 51,
   "metadata": {},
   "outputs": [],
   "source": [
    "#объединяем группы 246 и 247 в единую группу А\n",
    "def re_type_groupe(row):\n",
    "    if row == \"246\" or row == \"247\":\n",
    "        return \"A\"\n",
    "    else:\n",
    "        return \"B\""
   ]
  },
  {
   "cell_type": "code",
   "execution_count": 52,
   "metadata": {},
   "outputs": [],
   "source": [
    "#применяем функцию re_type_groupe\n",
    "logs['new_group'] = logs['group'].apply(re_type_groupe)\n",
    "\n",
    "warnings.filterwarnings('ignore')"
   ]
  },
  {
   "cell_type": "code",
   "execution_count": 53,
   "metadata": {},
   "outputs": [],
   "source": [
    "#находим количество уникальных пользователей по каждому типу событя в двух группах\n",
    "users_ab = logs.pivot_table(\n",
    "    index='event_type', \n",
    "    columns='new_group', \n",
    "    values='user_id',\n",
    "    aggfunc='nunique').reset_index()"
   ]
  },
  {
   "cell_type": "code",
   "execution_count": 54,
   "metadata": {
    "scrolled": true
   },
   "outputs": [],
   "source": [
    "#нахом количество уникальных пользователей для каждой группы\n",
    "users_ab['user_unique_A'] = len(logs.query('new_group == \"A\"')['user_id'].unique())\n",
    "users_ab['user_unique_B'] = len(logs.query('new_group == \"B\"')['user_id'].unique())"
   ]
  },
  {
   "cell_type": "code",
   "execution_count": 55,
   "metadata": {
    "scrolled": true
   },
   "outputs": [
    {
     "data": {
      "text/html": [
       "<div>\n",
       "<style scoped>\n",
       "    .dataframe tbody tr th:only-of-type {\n",
       "        vertical-align: middle;\n",
       "    }\n",
       "\n",
       "    .dataframe tbody tr th {\n",
       "        vertical-align: top;\n",
       "    }\n",
       "\n",
       "    .dataframe thead th {\n",
       "        text-align: right;\n",
       "    }\n",
       "</style>\n",
       "<table border=\"1\" class=\"dataframe\">\n",
       "  <thead>\n",
       "    <tr style=\"text-align: right;\">\n",
       "      <th>new_group</th>\n",
       "      <th>event_type</th>\n",
       "      <th>A</th>\n",
       "      <th>B</th>\n",
       "      <th>user_unique_A</th>\n",
       "      <th>user_unique_B</th>\n",
       "      <th>ab_test</th>\n",
       "    </tr>\n",
       "  </thead>\n",
       "  <tbody>\n",
       "    <tr>\n",
       "      <td>0</td>\n",
       "      <td>MainScreenAppear</td>\n",
       "      <td>4926</td>\n",
       "      <td>2493</td>\n",
       "      <td>4997</td>\n",
       "      <td>2537</td>\n",
       "      <td>(H0 - p-значение: , 0.294)</td>\n",
       "    </tr>\n",
       "    <tr>\n",
       "      <td>1</td>\n",
       "      <td>OffersScreenAppear</td>\n",
       "      <td>3062</td>\n",
       "      <td>1531</td>\n",
       "      <td>4997</td>\n",
       "      <td>2537</td>\n",
       "      <td>(H0 - p-значение: , 0.434)</td>\n",
       "    </tr>\n",
       "    <tr>\n",
       "      <td>2</td>\n",
       "      <td>CartScreenAppear</td>\n",
       "      <td>2504</td>\n",
       "      <td>1230</td>\n",
       "      <td>4997</td>\n",
       "      <td>2537</td>\n",
       "      <td>(H0 - p-значение: , 0.182)</td>\n",
       "    </tr>\n",
       "    <tr>\n",
       "      <td>3</td>\n",
       "      <td>PaymentScreenSuccessful</td>\n",
       "      <td>2358</td>\n",
       "      <td>1181</td>\n",
       "      <td>4997</td>\n",
       "      <td>2537</td>\n",
       "      <td>(H0 - p-значение: , 0.6)</td>\n",
       "    </tr>\n",
       "    <tr>\n",
       "      <td>4</td>\n",
       "      <td>Tutorial</td>\n",
       "      <td>561</td>\n",
       "      <td>279</td>\n",
       "      <td>4997</td>\n",
       "      <td>2537</td>\n",
       "      <td>(H0 - p-значение: , 0.765)</td>\n",
       "    </tr>\n",
       "  </tbody>\n",
       "</table>\n",
       "</div>"
      ],
      "text/plain": [
       "new_group               event_type     A     B  user_unique_A  user_unique_B  \\\n",
       "0                 MainScreenAppear  4926  2493           4997           2537   \n",
       "1               OffersScreenAppear  3062  1531           4997           2537   \n",
       "2                 CartScreenAppear  2504  1230           4997           2537   \n",
       "3          PaymentScreenSuccessful  2358  1181           4997           2537   \n",
       "4                         Tutorial   561   279           4997           2537   \n",
       "\n",
       "new_group                     ab_test  \n",
       "0          (H0 - p-значение: , 0.294)  \n",
       "1          (H0 - p-значение: , 0.434)  \n",
       "2          (H0 - p-значение: , 0.182)  \n",
       "3            (H0 - p-значение: , 0.6)  \n",
       "4          (H0 - p-значение: , 0.765)  "
      ]
     },
     "execution_count": 55,
     "metadata": {},
     "output_type": "execute_result"
    }
   ],
   "source": [
    "#применяем функцию z_test_group\n",
    "users_ab['ab_test'] = users_ab.apply(z_test_group, axis = 1)\n",
    "#сортируем по убыванию\n",
    "users_ab.sort_values(by = \"A\", ascending = False).reset_index(drop = True)"
   ]
  },
  {
   "cell_type": "markdown",
   "metadata": {},
   "source": [
    "Нет статистически значимых различий между группами A и B по каждому типу события (p-значение от 0.18 до 0.77)"
   ]
  },
  {
   "cell_type": "markdown",
   "metadata": {},
   "source": [
    "####  Какой уровень значимости вы выбрали при проверке статистических гипотез выше? Посчитайте, сколько проверок статистических гипотез вы сделали. При уровне значимости 0.1 каждый десятый раз можно получать ложный результат. Какой уровень значимости стоит применить? Если вы хотите изменить его, проделайте предыдущие пункты и проверьте свои выводы."
   ]
  },
  {
   "cell_type": "markdown",
   "metadata": {},
   "source": [
    "В тесте поведение пользователей определяется воронкой, которая описывается долями пользователей, завершивших каждый шаг воронки. Поэтому группы можно сравнить z-тестами. Уровень значимости был выбран 0.0025% т. к. у нас двухстронний z-тест, и скорректирован т.к. множественный тест(4 теста по 5 событий)"
   ]
  },
  {
   "cell_type": "markdown",
   "metadata": {},
   "source": [
    "### Вывод:\n",
    "\n",
    " - Количество пользователей в каждой группе: 246 - 2484, 247 - 2513, 248 - 2537;\n",
    " - A/A-тест показал что нет статистически значимой разницы между выборками 246 и 247( p-значение: 0.12, H0). Можно приступать к А/B-тесту;\n",
    " - Нет статистически значимых различий между группами 246 и 247 по каждому типу события (p-значение от 0.12 до 0.94);\n",
    " - Нет статистически значимых различий между группами 246 и 248 по каждому типу события (p-значение от 0.08 до 0.83);\n",
    " - Нет статистически значимых различий между группами 247 и 248 по каждому типу события (p-значение от 0.46 до 0.77);\n",
    " - Нет статистически значимых различий между группами A и B по каждому типу события (p-значение от 0.18 до 0.77);\n",
    " - В тесте поведение пользователей определяется воронкой, которая описывается долями пользователей, завершивших каждый шаг воронки. Поэтому группы можно сравнить z-тестами. Уровень значимости был выбран 0.0025% т.к. у нас двухстронний z-тест, и скорректирован т.к. множественный тест(4 теста по 5 событий)."
   ]
  },
  {
   "cell_type": "markdown",
   "metadata": {},
   "source": [
    "## Общий вывод:"
   ]
  },
  {
   "cell_type": "markdown",
   "metadata": {},
   "source": [
    " - Получена таблица с логми пользователей. Объём датасета 4 поля,  244126 строк;\n",
    " - Переимнованы столбцы: EventName': 'event_type',  'DeviceIDHash': 'user_id', 'EventTimestamp': 'event_time_unix', 'ExpId':'group';\n",
    " - Удалены дубликаты  - 413 шт.;\n",
    " - Переведён в строчный формат: 'user_id', 'group';\n",
    " - Создан столбцец с датой и временем 'event_datetime' в формате datetime;\n",
    " - Создан столбцец с датой 'event_date';\n",
    "\n",
    "\n",
    " - Имеются данные в период с 2019-07-25 по 2019-08-07, длительностью -  14 дней;\n",
    " - Отфильтровав данные получили период с 2019-08-01 по 2019-08-07 - 7 дней;\n",
    " - После фильтрации мы потеряли менее 1% уникальных пользователей, и 1.2% логов;\n",
    " - Пользователи есть во всех трёх экспериментальных группах;\n",
    " - уникальные события: Tutorial, MainScreenAppear, OffersScreenAppear, CartScreenAppear, PaymentScreenSuccessful;\n",
    "\n",
    "\n",
    "\n",
    " - Доля переходов в событиях: OffersScreenAppear / MainScreenAppear: 0.57, CartScreenAppear / OffersScreenAppear: 0.42, PaymentScreenSuccessful / CartScreenAppear: 0.26; \n",
    " - Больше всего пользователей теряется на шаге:  OffersScreenAppear / MainScreenAppear (57%); \n",
    " - Доля пользователей которая доходит от первого события до оплаты: 6%\n",
    " \n",
    " \n",
    " - Количество пользователей в каждой группе: 246 - 2484, 247 - 2513, 248 - 2537;\n",
    " - A/A-тест показал что нет статистически значимой разницы между выборками 246 и 247( p-значение: 0.88, H0). Можно приступать к А/B-тесту;\n",
    " - Нет статистически значимых различий между группами 246 и 247 по каждому типу события (p-значение от 0.12 до 0.94);\n",
    " - Нет статистически значимых различий между группами 246 и 248 по каждому типу события (p-значение от 0.08 до 0.83);\n",
    " - Нет статистически значимых различий между группами 247 и 248 по каждому типу события (p-значение от 0.46 до 0.77);\n",
    " - Нет статистически значимых различий между группами A и B по каждому типу события (p-значение от 0.18 до 0.77);\n",
    " - В тесте поведение пользователей определяется воронкой, которая описывается долями пользователей, завершивших каждый шаг воронки. Поэтому группы можно сравнить z-тестами. Уровень значимости был выбран 0.0025% т.к. у нас двухстронний z-тест, и скорректирован т.к. множественный тест(4 теста по 5 событий);\n",
    " \n",
    "#### Вывод: \n",
    " - дизайнеры могут поменять шрифт в мобильном приложении, он не влияет на конверсию покупателей.\n",
    " "
   ]
  }
 ],
 "metadata": {
  "kernelspec": {
   "display_name": "Python 3",
   "language": "python",
   "name": "python3"
  },
  "language_info": {
   "codemirror_mode": {
    "name": "ipython",
    "version": 3
   },
   "file_extension": ".py",
   "mimetype": "text/x-python",
   "name": "python",
   "nbconvert_exporter": "python",
   "pygments_lexer": "ipython3",
   "version": "3.7.3"
  }
 },
 "nbformat": 4,
 "nbformat_minor": 2
}
